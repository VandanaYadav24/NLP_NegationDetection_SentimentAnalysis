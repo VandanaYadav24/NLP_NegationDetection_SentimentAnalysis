{
 "cells": [
  {
   "cell_type": "code",
   "execution_count": 1,
   "metadata": {},
   "outputs": [
    {
     "name": "stderr",
     "output_type": "stream",
     "text": [
      "C:\\Users\\vanda\\anaconda3\\envs\\p3_6\\lib\\site-packages\\fuzzywuzzy\\fuzz.py:11: UserWarning: Using slow pure-python SequenceMatcher. Install python-Levenshtein to remove this warning\n",
      "  warnings.warn('Using slow pure-python SequenceMatcher. Install python-Levenshtein to remove this warning')\n"
     ]
    }
   ],
   "source": [
    "import spacy\n",
    "from spacy import displacy\n",
    "\n",
    "import networkx as nx\n",
    "\n",
    "import re\n",
    "\n",
    "import pandas as pd\n",
    "\n",
    "import xlwt\n",
    "from xlwt import Workbook\n",
    "\n",
    "from textblob import TextBlob\n",
    "import pandas as pd\n",
    "\n",
    "import matplotlib.pyplot as plt\n",
    "import numpy as np\n",
    "import seaborn as sns \n",
    "\n",
    "from scipy.stats import pearsonr\n",
    "from statistics import mean\n",
    "\n",
    "from tasks_python_files.Task1_Negation_cue_detection import *\n",
    "from tasks_python_files.Task2_Rules_based_neg_scope_spacy import *\n",
    "\n",
    "from nltk import pos_tag, word_tokenize, RegexpParser\n",
    "\n",
    "from negspacy.negation import Negex\n",
    "from negspacy.termsets import termset"
   ]
  },
  {
   "cell_type": "markdown",
   "metadata": {},
   "source": [
    "###### calculates sentiment of input text"
   ]
  },
  {
   "cell_type": "code",
   "execution_count": 2,
   "metadata": {},
   "outputs": [],
   "source": [
    "def get_sentiment(input_text):\n",
    "    blob = TextBlob(input_text)\n",
    "    return blob.sentiment.polarity"
   ]
  },
  {
   "cell_type": "markdown",
   "metadata": {},
   "source": [
    "###### returns list of sentiment scores of reviews"
   ]
  },
  {
   "cell_type": "code",
   "execution_count": 3,
   "metadata": {},
   "outputs": [],
   "source": [
    "def get_senti_list(df_review):\n",
    "    senti_reviews_list = []\n",
    "    for i in range(len(df_review)):\n",
    "        senti_reviews_list.append(get_sentiment(str(df_review['reviews.text'][i])))\n",
    "        \n",
    "    return senti_reviews_list"
   ]
  },
  {
   "cell_type": "code",
   "execution_count": 4,
   "metadata": {},
   "outputs": [],
   "source": [
    "def decontract(phrase):\n",
    "    phrase = re.sub(r\"[c|C]an\\'t\", \"can not\", phrase)\n",
    "    phrase = re.sub(r\"[w|W]on\\'t\", \"will not\", phrase)\n",
    "    \n",
    "    phrase = re.sub(r\"n\\'t\", \" not\", phrase)\n",
    "    return phrase"
   ]
  },
  {
   "cell_type": "markdown",
   "metadata": {},
   "source": [
    "###### gets sentences of a review"
   ]
  },
  {
   "cell_type": "code",
   "execution_count": 5,
   "metadata": {},
   "outputs": [],
   "source": [
    "nlp = spacy.load(\"en_core_web_sm\")\n",
    "def get_sents(input_text_col): \n",
    "    sentences=[]\n",
    "    reviews=[]\n",
    "    for i in range(len(input_text_col)):\n",
    "        reviews.append(input_text_col[i])\n",
    "        doc = nlp(input_text_col[i])\n",
    "        sentences.append([])\n",
    "        for sent in doc.sents:\n",
    "            sent = decontract(sent.text)\n",
    "            sentences[i].append(sent)\n",
    "    return sentences,reviews"
   ]
  },
  {
   "cell_type": "markdown",
   "metadata": {},
   "source": [
    "###### for a review returns negation cues and scope in txt_neg_cue and txt_neg_scope list:"
   ]
  },
  {
   "cell_type": "code",
   "execution_count": 6,
   "metadata": {},
   "outputs": [],
   "source": [
    "def get_neg_scope_review(review):\n",
    "    txt_neg_cue = []\n",
    "    txt_neg_scope = []\n",
    "    for j in range(len(review)):\n",
    "        #print(review[j])\n",
    "        doc = nlp(review[j])\n",
    "        operating_negs, prefix_negs, suffix_negs, all_negs  = identify_all_negs(review[j])\n",
    "\n",
    "        #print(all_negs)\n",
    "        txt_neg_cue.append(all_negs)\n",
    "        \n",
    "        txt_neg_scope.append(get_neg_scope_rule3_new(doc, txt_neg_cue[j]))\n",
    "    return txt_neg_cue, txt_neg_scope"
   ]
  },
  {
   "cell_type": "markdown",
   "metadata": {},
   "source": [
    "###### for a review returns negation cues, negation scope and negated named entities  in txt_neg_cue and txt_neg_scope and txt_named_ents list:"
   ]
  },
  {
   "cell_type": "code",
   "execution_count": 7,
   "metadata": {},
   "outputs": [],
   "source": [
    "def get_neg_cue_scope_named_ent(review_sents_list):\n",
    "    txt_neg_cue = []\n",
    "    txt_neg_scope = []\n",
    "    txt_pos = []\n",
    "    txt_named_ents = []\n",
    "    for j in range(len(review_sents_list)):\n",
    "        #print(review_sents_list[j])\n",
    "        doc = nlp(review_sents_list[j])\n",
    "        operating_negs, prefix_negs, suffix_negs, all_negs = identify_all_negs(review_sents_list[j])\n",
    "        #print(all_negs)\n",
    "        txt_neg_cue.append(all_negs)\n",
    "        #neg_scope, part_of_speech, named_ents = get_neg_scope_pos_ne_rule3(doc, txt_neg_cue[j])\n",
    "        neg_scope, part_of_speech, named_ents, scope_idx_l, token_idx_l = get_neg_scope_pos_ne_rule3_new(doc, txt_neg_cue[j])\n",
    "        txt_neg_scope.append(neg_scope)\n",
    "        txt_pos.append(part_of_speech)\n",
    "        txt_named_ents.append(named_ents)\n",
    "    return txt_neg_cue, txt_neg_scope, txt_pos, txt_named_ents"
   ]
  },
  {
   "cell_type": "markdown",
   "metadata": {},
   "source": [
    "###### Negex output for a sentence:"
   ]
  },
  {
   "cell_type": "code",
   "execution_count": 8,
   "metadata": {},
   "outputs": [],
   "source": [
    "def get_negex_output_sent(sentence):\n",
    "    ts =termset(\"en\")\n",
    "    nlp = spacy.load(\"en_core_web_sm\")\n",
    "\n",
    "    #print(ts.get_patterns())\n",
    "    nlp.add_pipe(\n",
    "                \"negex\",\n",
    "                config={\n",
    "                    \"neg_termset\": ts.get_patterns()\n",
    "                }\n",
    "    )\n",
    "    doc = nlp(sentence)\n",
    "    ne = []\n",
    "    ne_out = []\n",
    "    for e in doc.ents:\n",
    "        ne.append(e.text)\n",
    "        ne_out.append(e._.negex)\n",
    "    #print(ne, ne_out)\n",
    "    return ne, ne_out"
   ]
  },
  {
   "cell_type": "markdown",
   "metadata": {},
   "source": [
    "###### ne and negex out for single review which may/may not have multiple sentences:"
   ]
  },
  {
   "cell_type": "code",
   "execution_count": 9,
   "metadata": {},
   "outputs": [],
   "source": [
    "def get_negex_output_review(review_sents_list):\n",
    "    ne_lt = []\n",
    "    ne_out_lt = []\n",
    "    negex_review_count=0\n",
    "    for i in range(len(review_sents_list)):\n",
    "        ne, ne_out = get_negex_output_sent(review_sents_list[i])\n",
    "        ne_lt.append(ne)\n",
    "        ne_out_lt.append(ne_out)\n",
    "    return ne_lt, ne_out_lt"
   ]
  },
  {
   "cell_type": "markdown",
   "metadata": {},
   "source": [
    "###### ne and negex output for all reviews of dataset:"
   ]
  },
  {
   "cell_type": "code",
   "execution_count": 10,
   "metadata": {},
   "outputs": [],
   "source": [
    "def get_negex_out_all_reviews(reviews_sents_list):\n",
    "    ne_reviews_lt = []\n",
    "    negex_out_reviews_lt = []\n",
    "    for i in range(len(reviews_sents_list)):\n",
    "#         ne_reviews_lt.append([])\n",
    "#         negex_out_reviews_lt.append([])\n",
    "        ne_lt, negex_out_lt= get_negex_output_review(reviews_sents_list[i])\n",
    "        ne_reviews_lt.append(ne_lt)\n",
    "        negex_out_reviews_lt.append(negex_out_lt)\n",
    "    return ne_reviews_lt, negex_out_reviews_lt"
   ]
  },
  {
   "cell_type": "markdown",
   "metadata": {},
   "source": [
    "###### file_path: passing this variable to get results over different subsets of original df. eg: filepath = 'neg_df_20.xls' for df_20 subset(first 20 \n",
    "###### reviews_col: reviews.text column is passed eg: df_small['reviews.text']"
   ]
  },
  {
   "cell_type": "code",
   "execution_count": 11,
   "metadata": {},
   "outputs": [],
   "source": [
    "def get_neg_scope_reviews_named_ent(ratings_col, reviews_col, file_path):\n",
    "    negex_review_count = 0\n",
    "    reviews_sents_list, reviews_lt = get_sents(reviews_col)\n",
    "    \n",
    "    # Workbook is created\n",
    "    wb = Workbook()\n",
    "    # add_sheet is used to create sheet.\n",
    "    sheet1 = wb.add_sheet('Sheet 1')\n",
    "    sum_count = 0\n",
    "    #list of number of negations of each review of dataset\n",
    "    neg_count_list = []\n",
    "    \n",
    "    sheet1.write(0, 0,\"Reviews\")\n",
    "    sheet1.write(0, 1,\"Ratings\")\n",
    "    sheet1.write(0, 2,\"Sentiment of reviews\")\n",
    "    sheet1.write(0, 3,\"Negation count\")\n",
    "    sheet1.write(0, 4,\"Sentences in review\")\n",
    "    sheet1.write(0, 5,\"Named Entities\")\n",
    "    sheet1.write(0, 6,\"Negation cues\")\n",
    "    sheet1.write(0, 7,\"Negation scope\")\n",
    "    sheet1.write(0, 8,\"POS of negation scope\")\n",
    "    sheet1.write(0, 9,\"Negex named entities\")\n",
    "    sheet1.write(0, 10,\"Negex ne entities output\")\n",
    "    \n",
    "    for i in range(len(reviews_sents_list)):\n",
    "#         print(\"Review is: \\n\")\n",
    "#         print(reviews_list[i])\n",
    "        neg_cues, neg_scopes, part_of_speech, named_ents = get_neg_cue_scope_named_ent(reviews_sents_list[i])\n",
    "#         print(str(neg_cues)+\"\\n\")\n",
    "#         print(str(neg_scopes)+\"\\n\")\n",
    "        \n",
    "        negex_ne_l, negex_out_l = get_negex_output_review(reviews_sents_list[i])\n",
    "        if negex_out_l.count(True) !=0:\n",
    "            negex_review_count +=1\n",
    "        \n",
    "        review_sent_count = len(reviews_sents_list[i])\n",
    "        sheet1.write(sum_count+1, 0,reviews_col[i])\n",
    "        sheet1.write(sum_count+1, 1,str(ratings_col[i]))\n",
    "        sheet1.write(sum_count+1, 2,get_sentiment(reviews_col[i]))\n",
    "        \n",
    "        count_negs=0\n",
    "        for j in range(len(reviews_sents_list[i])):\n",
    "            sheet1.write(sum_count+j+1, 4, reviews_sents_list[i][j])\n",
    "            sheet1.write(sum_count+j+1, 5, repr(named_ents[j]))\n",
    "            sheet1.write(sum_count+j+1, 6, repr(neg_cues[j]))\n",
    "            sheet1.write(sum_count+j+1, 7, repr(neg_scopes[j]))\n",
    "            sheet1.write(sum_count+j+1, 8, repr(part_of_speech[j]))\n",
    "            sheet1.write(sum_count+j+1, 9, repr(negex_ne_l[j]))\n",
    "            sheet1.write(sum_count+j+1, 10, repr(negex_out_l[j]))\n",
    "            \n",
    "            \n",
    "            if len(neg_cues[j])!=0:\n",
    "                c = len(neg_cues[j])\n",
    "                count_negs = count_negs + c\n",
    "        neg_count_list.append(count_negs)\n",
    "        sheet1.write(sum_count+1, 3,count_negs)\n",
    "        #print(count_negs)                \n",
    "        sum_count = sum_count + review_sent_count\n",
    "        wb.save(file_path)\n",
    "    return neg_count_list, negex_review_count"
   ]
  },
  {
   "cell_type": "markdown",
   "metadata": {},
   "source": [
    "###### Code to test above methods"
   ]
  },
  {
   "cell_type": "code",
   "execution_count": 12,
   "metadata": {},
   "outputs": [],
   "source": [
    "# df_senti_negs = create_df_senti_neg_count(df, neg_count_lt)\n",
    "\n",
    "# print(\"Correlation and p-value of sentiment and ratings of reviews: \\n\")\n",
    "# print(correlation_between_variables(df_senti_negs['sentiment_score'], df_senti_negs['reviews.rating']))\n",
    "\n",
    "# plot_two_columns(df_senti_negs['reviews.rating'], df_senti_negs['sentiment_score'], \"Ratings per review\", \"Sentiment per review\", \"Sentiment vs Ratings\", \"corr_senti_vs_rating_df.png\")\n",
    "\n",
    "# print(\"Correlation and p-value of sentiment and negation count of review: \\n\")\n",
    "# print(correlation_between_variables(df_senti_negs['sentiment_score'], df_senti_negs['negations_count']))\n",
    "\n",
    "# plot_two_columns(df_senti_negs['negations_count'], df_senti_negs['sentiment_score'], \"Negation count per review\", \"Sentiment per review\", \"Sentiment vs Negation count\", \"corr_senti_neg_count_df.png\")"
   ]
  },
  {
   "cell_type": "markdown",
   "metadata": {},
   "source": [
    "`Sentiment is calculated based on each review whereas number of negation, negation words and negation scope is calculated based on each sentence of the review. So, I have created 2 dataframes. 1st: consist of neg cues and scopes of each sentences of each review. 2nd: updated original dataset by adding sentiment column (calculated by textblob) of each review `"
   ]
  },
  {
   "cell_type": "markdown",
   "metadata": {},
   "source": [
    "###### 1st dataframe\n",
    "example:  #df_new, avg_senti_review_list = create_dataframe_neg_cues_scope(df_10)\n",
    "###### columns:\n",
    "reviews, sentence_in_review, sentiment_score, negation_cues, negation_scopes, neg_named_entities"
   ]
  },
  {
   "cell_type": "code",
   "execution_count": 13,
   "metadata": {},
   "outputs": [],
   "source": [
    "def create_dataframe_neg_cues_scope(df_review):\n",
    "    df_new = pd.DataFrame(columns = ['reviews','sentences_in_review'])\n",
    "\n",
    "    reviews_sents_lt,reviews_lt = get_sents(df_review['reviews.text'])\n",
    "\n",
    "    #get sentiment of each sentence of the review and avg sentiment of each review list   \n",
    "    senti_sents_l = []\n",
    "    for i in range(len(reviews_sents_lt)):\n",
    "        senti_sents_l.append([])\n",
    "        for j in range(len(reviews_sents_lt[i])):\n",
    "            senti_sents_l[i].append(get_sentiment(reviews_sents_lt[i][j]))\n",
    "    \n",
    "    avg_senti_review = []\n",
    "    for k in range(len(senti_sents_l)):\n",
    "        avg_k = mean(senti_sents_l[k])\n",
    "        avg_senti_review.append(avg_k)\n",
    "    \n",
    "    sents=[]\n",
    "    ss_l=[]\n",
    "    for t in range(len(reviews_sents_lt)):\n",
    "        for m in range(len(reviews_sents_lt[t])):\n",
    "            sents.append(reviews_sents_lt[t][m])\n",
    "            ss_l.append(senti_sents_l[t][m])\n",
    "\n",
    "    for i in range(len(reviews_sents_lt)):\n",
    "        for j in range(len(reviews_sents_lt[i])):\n",
    "            df_new = df_new.append(pd.DataFrame({'reviews':reviews_lt[i]}, index=[i]) )\n",
    "    \n",
    "    #inserting sentences_in_review column and sentiment scores of each sentence of each review\n",
    "    df_new = df_new.assign(sentences_in_review = sents)        \n",
    "    df_new = df_new.assign(sentiment_score = ss_l) \n",
    "\n",
    "    #inserting negation_cues and negation_scopes column\n",
    "    cues_lt=[]\n",
    "    scope_lt=[]\n",
    "    pos_lt=[]\n",
    "    ne_lt=[]\n",
    "    negex_ne_lt = []\n",
    "    negex_out_lt = []\n",
    "    for k in range(len(reviews_sents_lt)):\n",
    "        neg_cues, neg_scope, part_of_speech, ne = get_neg_cue_scope_named_ent(reviews_sents_lt[k])\n",
    "        \n",
    "        negex_ne_l, negex_out_l = get_negex_output_review(reviews_sents_lt[k])\n",
    "        \n",
    "        #print(ne)\n",
    "        for p in range(len(neg_cues)):\n",
    "            cues_lt.append(neg_cues[p])\n",
    "            scope_lt.append(neg_scope[p])\n",
    "            pos_lt.append(part_of_speech[p])\n",
    "            ne_lt.append(ne[p])\n",
    "            negex_ne_lt.append(negex_ne_l[p])\n",
    "            negex_out_lt.append(negex_out_l[p])\n",
    "    df_new = df_new.assign(named_entities = ne_lt)        \n",
    "    df_new = df_new.assign(negation_cues = cues_lt)  \n",
    "    df_new = df_new.assign(negation_scopes = scope_lt) \n",
    "    df_new = df_new.assign(POS_negation_scope = pos_lt)\n",
    "    df_new = df_new.assign(negex_named_entities = negex_ne_lt)\n",
    "    df_new = df_new.assign(negex_ne_output = negex_out_lt)\n",
    "    \n",
    "    \n",
    "    #inserting each sentence of the review's sentiment score and return list of average sentiment score of each review\n",
    "\n",
    "    return df_new, avg_senti_review"
   ]
  },
  {
   "cell_type": "markdown",
   "metadata": {},
   "source": [
    "###### code to test above methods"
   ]
  },
  {
   "cell_type": "code",
   "execution_count": 14,
   "metadata": {},
   "outputs": [],
   "source": [
    "# df = pd.read_csv(\"./datasets/Restaurant_Reviews.csv\")\n",
    "# df = df.drop('Unnamed: 0', axis='columns')\n",
    "# df = df.rename(columns = {'Review':'reviews.text', 'Liked': 'reviews.rating'})"
   ]
  },
  {
   "cell_type": "code",
   "execution_count": 15,
   "metadata": {},
   "outputs": [],
   "source": [
    "#df = pd.read_csv('./datasets/Datafiniti_Hotel_Reviews.csv')"
   ]
  },
  {
   "cell_type": "code",
   "execution_count": 16,
   "metadata": {},
   "outputs": [],
   "source": [
    "#df_5 = df.head(5)"
   ]
  },
  {
   "cell_type": "code",
   "execution_count": 17,
   "metadata": {},
   "outputs": [],
   "source": [
    "# output_path = './results_review/df_5_negs.xls'\n",
    "# neg_count_lt, negex_out_cnt_list = get_neg_scope_reviews_named_ent(df_5['reviews.rating'], df_5['reviews.text'], output_path)"
   ]
  },
  {
   "cell_type": "code",
   "execution_count": 18,
   "metadata": {},
   "outputs": [],
   "source": [
    "#df_neg_ne_pos, avg_senti_scores_lt = create_dataframe_neg_cues_scope(df_50)"
   ]
  },
  {
   "cell_type": "markdown",
   "metadata": {},
   "source": [
    "###### 2nd dataframe\n",
    "adding columns (sentiment_score, average sentiment score and negations_count ) to original dataset"
   ]
  },
  {
   "cell_type": "code",
   "execution_count": 19,
   "metadata": {},
   "outputs": [],
   "source": [
    "def create_df_senti_neg_count(df_review, neg_count_list, avg_senti_review_list):\n",
    "    #calculate senti of each review and add a column in df for senti of each review\n",
    "    senti_list_reviews = get_senti_list(df_review)\n",
    "\n",
    "    #df_senti : In original dataset df, sentiment score added as a new column and dataset renamed as df_senti\n",
    "    df_senti_neg = df_review.assign(sentiment_score = senti_list_reviews)\n",
    "    df_senti_neg = df_senti_neg.assign(negations_count = neg_count_list)\n",
    "    df_senti_neg = df_senti_neg.assign(average_sentiment_score = avg_senti_review_list)\n",
    "    return df_senti_neg"
   ]
  },
  {
   "cell_type": "markdown",
   "metadata": {},
   "source": [
    "###### Finding correlation between two variables:"
   ]
  },
  {
   "cell_type": "code",
   "execution_count": 20,
   "metadata": {},
   "outputs": [],
   "source": [
    "def correlation_between_variables(x,y):\n",
    "    corr, p_val = pearsonr(x,y)\n",
    "    #print(corr)\n",
    "    return corr, p_val"
   ]
  },
  {
   "cell_type": "markdown",
   "metadata": {},
   "source": [
    "###### method to plot sentiment score of each review vs ratings of each review:"
   ]
  },
  {
   "cell_type": "code",
   "execution_count": 21,
   "metadata": {},
   "outputs": [],
   "source": [
    "def plot_ratings_senti_reviews(df_review, senti_review_list):\n",
    "    #plt.style.use('seaborn-ticks')\n",
    "    plt.scatter(df_review[\"reviews.rating\"], senti_review_list)\n",
    "    plt.ylabel('Review_sentiment',fontsize=10)\n",
    "    plt.xlabel('Rating',fontsize=10)\n",
    "    plt.title('Sentiment vs Rating', fontsize=15)\n",
    "    #plt.savefig(\"rat_senti.png\", dpi=500)\n",
    "    plt.show()"
   ]
  },
  {
   "cell_type": "markdown",
   "metadata": {},
   "source": [
    "###### Divide dataset based on ratings:  1 to 2: df_negative_review, 2 to 3 (2 not inclusive): df_neutral_review and 3 to 5 (3 not inclusive): df_postive_review: "
   ]
  },
  {
   "cell_type": "code",
   "execution_count": 22,
   "metadata": {},
   "outputs": [],
   "source": [
    "def create_df_negative_reviews(df_original, num_rows_needed):\n",
    "    df_neg_reviews = df_original.loc[(df_original['reviews.rating'] >= 1) & (df_original['reviews.rating'] <= 2)].head(num_rows_needed)\n",
    "    df_neg_reviews = df_neg_reviews.reset_index()\n",
    "    df_neg_reviews = df_neg_reviews.rename(columns = {'index':'previous_index'})\n",
    "    return df_neg_reviews"
   ]
  },
  {
   "cell_type": "code",
   "execution_count": 23,
   "metadata": {},
   "outputs": [],
   "source": [
    "def create_df_neutral_reviews(df_original, num_rows_needed):\n",
    "    df_neu_reviews = df_original.loc[(df_original['reviews.rating']>2) & (df_original['reviews.rating'] <= 3)].head(num_rows_needed)\n",
    "    df_neu_reviews = df_neu_reviews.reset_index()\n",
    "    df_neu_reviews = df_neu_reviews.rename(columns = {'index':'previous_index'})\n",
    "    return df_neu_reviews"
   ]
  },
  {
   "cell_type": "code",
   "execution_count": 24,
   "metadata": {},
   "outputs": [],
   "source": [
    "#not a general method for getting subset for postive reviews\n",
    "#3 to 5 (3 not inclusive): df_postive_review\n",
    "# num_rows_needed multiple of 4\n",
    "def create_df_positive_reviews(df_original, num_rows_needed):\n",
    "    i = int(num_rows_needed/4)\n",
    "    \n",
    "    d_1 = df_original.loc[(df_original['reviews.rating'] > 3) & (df_original['reviews.rating'] < 4)].head(i)\n",
    "    d_2 = df_original.loc[df_original['reviews.rating'] == 4].head(i)\n",
    "    d_3 = df_original.loc[(df_original['reviews.rating'] > 4) & (df_original['reviews.rating'] < 5)].head(i)\n",
    "    d_4 = df_original.loc[df_original['reviews.rating'] == 5].head(i)\n",
    "    df_pos_reviews = d_1.append(d_2,ignore_index=False,sort=False)\n",
    "    df_pos_reviews = df_pos_reviews.append(d_3,ignore_index=False,sort=False)\n",
    "    df_pos_reviews = df_pos_reviews.append(d_4,ignore_index=False,sort=False)\n",
    "    df_pos_reviews = df_pos_reviews.reset_index()\n",
    "    df_pos_reviews = df_pos_reviews.rename(columns = {'index':'previous_index'})\n",
    "    return df_pos_reviews"
   ]
  },
  {
   "cell_type": "code",
   "execution_count": 25,
   "metadata": {},
   "outputs": [],
   "source": [
    "def plot_senti_vs_neg_count(no_of_neg_list, senti_review_list):\n",
    "    plt.scatter(no_of_neg_list, senti_review_list)\n",
    "    plt.ylabel('Review_sentiment',fontsize=10)\n",
    "    plt.xlabel('Negation Count',fontsize=10)\n",
    "    plt.title('Sentiment vs Negation count', fontsize=15)\n",
    "    plt.savefig(\"rat_senti.png\", dpi=500)\n",
    "    plt.show()"
   ]
  },
  {
   "cell_type": "markdown",
   "metadata": {},
   "source": [
    "###### df division based on sentiment score\n",
    "`-1 to 0(not inclusive) : negative ` `0: neutral `,  `0(not inclusive) to 1: positive` "
   ]
  },
  {
   "cell_type": "code",
   "execution_count": 26,
   "metadata": {},
   "outputs": [],
   "source": [
    "def get_df_neg_reviews_senti(df_original, num_rows_needed):\n",
    "    df_neg_reviews = df_original.loc[(df_original['sentiment_score'] < 0) & (df_original['sentiment_score'] >= -1)].head(num_rows_needed)\n",
    "    df_neg_reviews = df_neg_reviews.reset_index()\n",
    "    df_neg_reviews = df_neg_reviews.rename(columns = {'index':'previous_index'})\n",
    "    return df_neg_reviews"
   ]
  },
  {
   "cell_type": "code",
   "execution_count": 27,
   "metadata": {},
   "outputs": [],
   "source": [
    "def get_df_neu_reviews_senti(df_original, num_rows_needed):\n",
    "    df_neu_reviews = df_original.loc[df_original['sentiment_score'] == 0].head(num_rows_needed)\n",
    "    df_neu_reviews = df_neu_reviews.reset_index()\n",
    "    df_neu_reviews = df_neu_reviews.rename(columns = {'index':'previous_index'})\n",
    "    return df_neu_reviews"
   ]
  },
  {
   "cell_type": "code",
   "execution_count": 28,
   "metadata": {},
   "outputs": [],
   "source": [
    "def get_df_pos_reviews_senti(df_original, num_rows_needed):\n",
    "    df_pos_reviews = df_original.loc[(df_original['sentiment_score'] > 0) & (df_original['sentiment_score'] <= 1)].head(num_rows_needed)\n",
    "    df_pos_reviews = df_pos_reviews.reset_index()\n",
    "    df_pos_reviews = df_pos_reviews.rename(columns = {'index':'previous_index'})\n",
    "    return df_pos_reviews"
   ]
  },
  {
   "cell_type": "code",
   "execution_count": 29,
   "metadata": {},
   "outputs": [],
   "source": [
    "#method only for ratings\n",
    "def plot_two_columns(df_review_col1, df_review_col2, x_label, y_label, title,filename):\n",
    "    #plt.style.use('seaborn-ticks')\n",
    "    plt.scatter(df_review_col1, df_review_col2)\n",
    "    plt.xlabel(x_label,fontsize=10)\n",
    "    plt.ylabel(y_label,fontsize=10)\n",
    "    plt.title(title, fontsize=15)\n",
    "    plt.savefig(\"./results_pics/\"+filename, dpi=500)\n",
    "    plt.show()"
   ]
  },
  {
   "cell_type": "markdown",
   "metadata": {},
   "source": [
    "###### For a review returns negation cues such as: not, no in one list, affixed cues in second list and suffixed cues in third list and similarly for scope and pos:"
   ]
  },
  {
   "cell_type": "code",
   "execution_count": 30,
   "metadata": {},
   "outputs": [],
   "source": [
    "def get_neg_cue_scope_modified(review_sents_list):\n",
    "    txt_neg_cue1 = []\n",
    "    txt_neg_cue2 = []\n",
    "    txt_neg_cue3 = []\n",
    "    \n",
    "    txt_neg_scope1 =[]\n",
    "    txt_neg_scope2 =[]\n",
    "    txt_neg_scope3 =[]\n",
    "    \n",
    "    txt_pos1 = []\n",
    "    txt_pos2 = []\n",
    "    txt_pos3 = []\n",
    "    \n",
    "    txt_named_ents = []\n",
    "    for j in range(len(review_sents_list)):\n",
    "        #print(review_sents_list[j]) \n",
    "        doc = nlp(review_sents_list[j])\n",
    "        \n",
    "        input_txt_tokens = word_tokenize(review_sents_list[j])\n",
    "        input_txt_tokens = [t.lower() for t in input_txt_tokens]\n",
    "        \n",
    "        neg_cue_list1 = identify_negative_words(input_txt_tokens)\n",
    "        txt_neg_cue1.append(neg_cue_list1)\n",
    "        neg_scope1, parts_of_speech1, named_ents1, scope_idx_l1, token_idx_l1 = get_neg_scope_pos_ne_rule3_new(doc, txt_neg_cue1[j])\n",
    "        txt_neg_scope1.append(neg_scope1)\n",
    "        txt_pos1.append(parts_of_speech1)\n",
    "        \n",
    "        txt_named_ents.append(named_ents1)\n",
    "        \n",
    "        neg_cue_list2 = identify_prefix_neg_words(input_txt_tokens)\n",
    "        txt_neg_cue2.append(neg_cue_list2)\n",
    "        neg_scope2, parts_of_speech2, named_ents2, scope_idx_l2, token_idx_l2 = get_neg_scope_pos_ne_rule3_new(doc, txt_neg_cue2[j])\n",
    "        txt_neg_scope2.append(neg_scope2)\n",
    "        txt_pos2.append(parts_of_speech2)\n",
    "        \n",
    "        neg_cue_list3 = identify_suffix_neg_words(input_txt_tokens)\n",
    "        txt_neg_cue3.append(neg_cue_list3)\n",
    "        neg_scope3, parts_of_speech3, named_ents3, scope_idx_l3, token_idx_l3 = get_neg_scope_pos_ne_rule3_new(doc, txt_neg_cue3[j])\n",
    "        txt_neg_scope3.append(neg_scope3)\n",
    "        txt_pos3.append(parts_of_speech3)\n",
    "        \n",
    "    return txt_neg_cue1, txt_neg_cue2, txt_neg_cue3, txt_neg_scope1, txt_neg_scope2, txt_neg_scope3, txt_pos1, txt_pos2, txt_pos3, txt_named_ents"
   ]
  },
  {
   "cell_type": "code",
   "execution_count": 31,
   "metadata": {},
   "outputs": [],
   "source": [
    "#a, b, c, s1,s2,s3, ne1,ne2,ne3 = get_neg_cue_scope_part1(reviews_sents_lt1[17])"
   ]
  },
  {
   "cell_type": "markdown",
   "metadata": {},
   "source": [
    "###### 1st dataframe :: negation cues & scopes are listed in different based on operating, affix & suffix negations:\n",
    "example: df_new, avg_senti_review_list = create_dataframe_neg_cues_scope(df_10)\n",
    "\n",
    "columns:\n",
    "\n",
    "reviews,sentence_in_review, sentiment_score, negation_cues, negation_scopes, negation_affix_scopes, \n",
    "negation_suffix_scopes & neg_named_entities"
   ]
  },
  {
   "cell_type": "code",
   "execution_count": 32,
   "metadata": {},
   "outputs": [],
   "source": [
    "def create_dataframe_neg_cues_scope_modified(df_review):\n",
    "    df_new = pd.DataFrame(columns = ['reviews','sentences_in_review'])\n",
    "\n",
    "    reviews_sents_lt,reviews_lt = get_sents(df_review['reviews.text'])\n",
    "\n",
    "    #get sentiment of each sentence of the review and avg sentiment of each review list   \n",
    "    senti_sents_l = []\n",
    "    for i in range(len(reviews_sents_lt)):\n",
    "        senti_sents_l.append([])\n",
    "        for j in range(len(reviews_sents_lt[i])):\n",
    "            #print(type(reviews_sents_lt[i][j]))\n",
    "            senti_sents_l[i].append(get_sentiment(reviews_sents_lt[i][j]))\n",
    "    \n",
    "    avg_senti_review = []\n",
    "    for k in range(len(senti_sents_l)):\n",
    "        avg_k = mean(senti_sents_l[k])\n",
    "        avg_senti_review.append(avg_k)\n",
    "    \n",
    "    sents=[]\n",
    "    ss_l=[]\n",
    "    for t in range(len(reviews_sents_lt)):\n",
    "        for m in range(len(reviews_sents_lt[t])):\n",
    "            sents.append(reviews_sents_lt[t][m])\n",
    "            ss_l.append(senti_sents_l[t][m])\n",
    "\n",
    "    for i in range(len(reviews_sents_lt)):\n",
    "        for j in range(len(reviews_sents_lt[i])):\n",
    "            df_new = df_new.append(pd.DataFrame({'reviews':reviews_lt[i]}, index=[i]) )\n",
    "    \n",
    "    #inserting sentences_in_review column and sentiment scores of each sentence of each review\n",
    "    df_new = df_new.assign(sentences_in_review = sents)        \n",
    "    df_new = df_new.assign(sentiment_score = ss_l) \n",
    "\n",
    "    #inserting negation_cues and negation_scopes column\n",
    "    cues_lt1=[]\n",
    "    cues_lt2=[]\n",
    "    cues_lt3=[]\n",
    "    scope_lt1=[]\n",
    "    scope_lt2=[]\n",
    "    scope_lt3=[]\n",
    "    pos_lt1=[]\n",
    "    pos_lt2=[]\n",
    "    pos_lt3=[]\n",
    "    ne_lt = []\n",
    "    for k in range(len(reviews_sents_lt)):\n",
    "             \n",
    "        neg_cues1, neg_cues2, neg_cues3, neg_scope1, neg_scope2, neg_scope3, pos1, pos2, pos3, ne = get_neg_cue_scope_modified(reviews_sents_lt[k])\n",
    "        \n",
    "        #print(ne)\n",
    "        for p in range(len(neg_cues1)):\n",
    "            cues_lt1.append(neg_cues1[p])\n",
    "            cues_lt2.append(neg_cues2[p])\n",
    "            cues_lt3.append(neg_cues3[p])\n",
    "            scope_lt1.append(neg_scope1[p])\n",
    "            scope_lt2.append(neg_scope2[p])\n",
    "            scope_lt3.append(neg_scope3[p])\n",
    "            pos_lt1.append(pos1[p])\n",
    "            pos_lt2.append(pos2[p])\n",
    "            pos_lt3.append(pos3[p])\n",
    "            ne_lt.append(ne[p])\n",
    "            \n",
    "    df_new = df_new.assign(named_entities = ne_lt)\n",
    "    df_new = df_new.assign(negation_cues = cues_lt1) \n",
    "    df_new = df_new.assign(negation_affix_cues = cues_lt2)\n",
    "    df_new = df_new.assign(negation_suffix_cues = cues_lt3)\n",
    "    df_new = df_new.assign(negation_scopes = scope_lt1)\n",
    "    df_new = df_new.assign(negation_affix_scopes = scope_lt2)\n",
    "    df_new = df_new.assign(negation_suffix_scopes = scope_lt3)\n",
    "    df_new = df_new.assign(neg_scope_pos = pos_lt1)\n",
    "    df_new = df_new.assign(neg_affix_scope_pos = pos_lt2)\n",
    "    df_new = df_new.assign(neg_suffix_scope_pos = pos_lt3)\n",
    "    \n",
    "    \n",
    "    \n",
    "    #inserting each sentence of the review's sentiment score and return list of average sentiment score of each review\n",
    "\n",
    "    return df_new, avg_senti_review"
   ]
  },
  {
   "cell_type": "code",
   "execution_count": 33,
   "metadata": {},
   "outputs": [],
   "source": [
    "#d, avg_senti= create_dataframe_neg_cues_scope_modified(df_5)"
   ]
  },
  {
   "cell_type": "markdown",
   "metadata": {},
   "source": [
    "###### for a review returns:: negation cues, negation scopes with negation cue, pos and named entities:"
   ]
  },
  {
   "cell_type": "code",
   "execution_count": 34,
   "metadata": {},
   "outputs": [],
   "source": [
    "def get_neg_cue_scope_with_neg(reviews_list):\n",
    "    txt_neg_cue = []\n",
    "    txt_neg_scope = []\n",
    "    txt_pos = []\n",
    "    txt_named_ents = []\n",
    "    for j in range(len(reviews_list)):\n",
    "        #print(review[j])\n",
    "        doc = nlp(reviews_list[j])\n",
    "        operating_negs, prefix_negs, suffix_negs, all_neg = identify_all_negs(reviews_list[j])\n",
    "        \n",
    "        #print(all_neg)\n",
    "        txt_neg_cue.append(all_neg)\n",
    "        #neg_scope, part_of_speech, named_ents, scope_idx_l, token_idx_l = get_neg_scope_pos_ne_rule3_new(doc, txt_neg_cue[j])\n",
    "        neg_scope, part_of_speech, named_ents = get_neg_scope_with_neg(doc, txt_neg_cue[j])\n",
    "        txt_neg_scope.append(neg_scope)\n",
    "        txt_pos.append(part_of_speech)\n",
    "        txt_named_ents.append(named_ents)\n",
    "    return txt_neg_cue, txt_neg_scope, txt_pos, txt_named_ents"
   ]
  },
  {
   "cell_type": "markdown",
   "metadata": {},
   "source": [
    "###### 1st dataframe :: negation cues, negation scopes with negation cue, pos and named entities. \n",
    "example: df_new, avg_senti_review_list = create_dataframe_neg_cues_scope(df_10)\n",
    "\n",
    "columns:\n",
    "\n",
    "reviews,sentence_in_review, sentiment_score, negation_cues, negation_scopes, neg_named_entities"
   ]
  },
  {
   "cell_type": "code",
   "execution_count": 35,
   "metadata": {},
   "outputs": [],
   "source": [
    "def create_dataframe_neg_cues_scope_with_neg(df_review):\n",
    "    df_new = pd.DataFrame(columns = ['reviews','sentences_in_review'])\n",
    "\n",
    "    reviews_sents_lt,reviews_lt = get_sents(df_review['reviews.text'])\n",
    "\n",
    "    #get sentiment of each sentence of the review and avg sentiment of each review list   \n",
    "    senti_sents_l = []\n",
    "    for i in range(len(reviews_sents_lt)):\n",
    "        senti_sents_l.append([])\n",
    "        for j in range(len(reviews_sents_lt[i])):\n",
    "            senti_sents_l[i].append(get_sentiment(reviews_sents_lt[i][j]))\n",
    "    \n",
    "    avg_senti_review = []\n",
    "    for k in range(len(senti_sents_l)):\n",
    "        avg_k = mean(senti_sents_l[k])\n",
    "        avg_senti_review.append(avg_k)\n",
    "    \n",
    "    sents=[]\n",
    "    ss_l=[]\n",
    "    for t in range(len(reviews_sents_lt)):\n",
    "        for m in range(len(reviews_sents_lt[t])):\n",
    "            sents.append(reviews_sents_lt[t][m])\n",
    "            ss_l.append(senti_sents_l[t][m])\n",
    "\n",
    "    for i in range(len(reviews_sents_lt)):\n",
    "        for j in range(len(reviews_sents_lt[i])):\n",
    "            df_new = df_new.append(pd.DataFrame({'reviews':reviews_lt[i]}, index=[i]) )\n",
    "    \n",
    "    #inserting sentences_in_review column and sentiment scores of each sentence of each review\n",
    "    df_new = df_new.assign(sentences_in_review = sents)        \n",
    "    df_new = df_new.assign(sentiment_score = ss_l) \n",
    "\n",
    "    #inserting negation_cues and negation_scopes column\n",
    "    cues_lt=[]\n",
    "    scope_lt=[]\n",
    "    pos_lt=[]\n",
    "    ne_lt=[]\n",
    "    negex_ne_lt = []\n",
    "    negex_out_lt = []\n",
    "    for k in range(len(reviews_sents_lt)):\n",
    "        neg_cues, neg_scope, part_of_speech, ne = get_neg_cue_scope_with_neg(reviews_sents_lt[k])\n",
    "        \n",
    "        negex_ne_l, negex_out_l = get_negex_output_review(reviews_sents_lt[k])\n",
    "        \n",
    "        #print(ne)\n",
    "        for p in range(len(neg_cues)):\n",
    "            cues_lt.append(neg_cues[p])\n",
    "            scope_lt.append(neg_scope[p])\n",
    "            pos_lt.append(part_of_speech[p])\n",
    "            ne_lt.append(ne[p])\n",
    "            negex_ne_lt.append(negex_ne_l[p])\n",
    "            negex_out_lt.append(negex_out_l[p])\n",
    "    df_new = df_new.assign(named_entities = ne_lt)        \n",
    "    df_new = df_new.assign(negation_cues = cues_lt)  \n",
    "    df_new = df_new.assign(negation_scopes = scope_lt) \n",
    "    df_new = df_new.assign(POS_negation_scope = pos_lt)\n",
    "    df_new = df_new.assign(negex_named_entities = negex_ne_lt)\n",
    "    df_new = df_new.assign(negex_ne_output = negex_out_lt)\n",
    "\n",
    "    return df_new, avg_senti_review"
   ]
  },
  {
   "cell_type": "markdown",
   "metadata": {},
   "source": [
    "###### get negation scope output of all reviews (pass reviews column of the dataset in below method)"
   ]
  },
  {
   "cell_type": "code",
   "execution_count": 36,
   "metadata": {},
   "outputs": [],
   "source": [
    "def get_neg_scope_reviews(reviews_col):\n",
    "    reviews_sents_list, reviews_lt = get_sents(reviews_col)\n",
    "    \n",
    "    #list of number of negations of each review of dataset\n",
    "    neg_count_list = []\n",
    "    neg_scopes_list = []\n",
    "    for i in range(len(reviews_sents_list)):\n",
    "        neg_cues, neg_scopes, part_of_speech, named_ents = get_neg_cue_scope_named_ent(reviews_sents_list[i])\n",
    "        neg_scopes_list.append(neg_scopes)\n",
    "        \n",
    "        #negex_ne_l, negex_out_l = get_negex_output_review(reviews_sents_list[i])\n",
    "\n",
    "        count_negs=0\n",
    "        for j in range(len(reviews_sents_list[i])):\n",
    "            if len(neg_cues[j])!=0:\n",
    "                c = len(neg_cues[j])\n",
    "                count_negs = count_negs + c\n",
    "        neg_count_list.append(count_negs)\n",
    "\n",
    "    return neg_count_list, neg_scopes_list"
   ]
  },
  {
   "cell_type": "markdown",
   "metadata": {},
   "source": [
    "###### get negex output of all reviews (pass reviews column of the dataset in below method)"
   ]
  },
  {
   "cell_type": "code",
   "execution_count": 37,
   "metadata": {},
   "outputs": [],
   "source": [
    "def get_negex_reviews(reviews_col):\n",
    "    reviews_sents_list, reviews_lt = get_sents(reviews_col)\n",
    "    ne_negated_list = []\n",
    "    negex_neg_review_count = 0\n",
    "    for i in range(len(reviews_sents_list)):\n",
    "        negex_ne_l, negex_out_l = get_negex_output_review(reviews_sents_list[i])\n",
    "       \n",
    "        for x in negex_out_l:\n",
    "            #print(x)\n",
    "            if x==True:\n",
    "                negex_neg_review_count +=1\n",
    "            break\n",
    "    return ne_negated_list, negex_neg_review_count"
   ]
  }
 ],
 "metadata": {
  "kernelspec": {
   "display_name": "Python 3",
   "language": "python",
   "name": "python3"
  },
  "language_info": {
   "codemirror_mode": {
    "name": "ipython",
    "version": 3
   },
   "file_extension": ".py",
   "mimetype": "text/x-python",
   "name": "python",
   "nbconvert_exporter": "python",
   "pygments_lexer": "ipython3",
   "version": "3.6.13"
  }
 },
 "nbformat": 4,
 "nbformat_minor": 4
}
