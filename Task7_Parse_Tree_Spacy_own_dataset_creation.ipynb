{
 "cells": [
  {
   "cell_type": "code",
   "execution_count": 1,
   "metadata": {},
   "outputs": [
    {
     "name": "stderr",
     "output_type": "stream",
     "text": [
      "C:\\Users\\vanda\\anaconda3\\envs\\p3_6\\lib\\site-packages\\fuzzywuzzy\\fuzz.py:11: UserWarning: Using slow pure-python SequenceMatcher. Install python-Levenshtein to remove this warning\n",
      "  warnings.warn('Using slow pure-python SequenceMatcher. Install python-Levenshtein to remove this warning')\n"
     ]
    }
   ],
   "source": [
    "from tasks_python_files.Task1_Negation_cue_detection import *\n",
    "from tasks_python_files.Task2_Rules_based_neg_scope_spacy import *\n",
    "from tasks_python_files.Task3_NegEx_method import *\n",
    "from tasks_python_files.SubTask1_From_csv_get_review_text_in_txt_file import write_reviews_text"
   ]
  },
  {
   "cell_type": "code",
   "execution_count": 2,
   "metadata": {},
   "outputs": [],
   "source": [
    "import spacy\n",
    "from spacy import displacy\n",
    "\n",
    "\n",
    "from negspacy.negation import Negex\n",
    "from negspacy.termsets import termset\n",
    "\n",
    "import networkx as nx\n",
    "from textblob import TextBlob\n",
    "\n",
    "import re\n",
    "from pathlib import Path"
   ]
  },
  {
   "cell_type": "markdown",
   "metadata": {},
   "source": [
    "###### Compare negation scope and expected negation scope:"
   ]
  },
  {
   "cell_type": "code",
   "execution_count": 3,
   "metadata": {},
   "outputs": [],
   "source": [
    "import pandas as pd\n",
    "from sklearn.metrics import recall_score, precision_score, accuracy_score\n",
    "df = pd.read_csv(\"./datasets/synthetic_dataset.csv\")"
   ]
  },
  {
   "cell_type": "code",
   "execution_count": 4,
   "metadata": {},
   "outputs": [
    {
     "data": {
      "text/html": [
       "<div>\n",
       "<style scoped>\n",
       "    .dataframe tbody tr th:only-of-type {\n",
       "        vertical-align: middle;\n",
       "    }\n",
       "\n",
       "    .dataframe tbody tr th {\n",
       "        vertical-align: top;\n",
       "    }\n",
       "\n",
       "    .dataframe thead th {\n",
       "        text-align: right;\n",
       "    }\n",
       "</style>\n",
       "<table border=\"1\" class=\"dataframe\">\n",
       "  <thead>\n",
       "    <tr style=\"text-align: right;\">\n",
       "      <th></th>\n",
       "      <th>Sentences</th>\n",
       "      <th>ExpectedNegationCues</th>\n",
       "      <th>ExpectedNegationScope</th>\n",
       "    </tr>\n",
       "  </thead>\n",
       "  <tbody>\n",
       "    <tr>\n",
       "      <th>47</th>\n",
       "      <td>He hadn't done any homework, neither had he br...</td>\n",
       "      <td>neither</td>\n",
       "      <td>had he brought any of his books to class</td>\n",
       "    </tr>\n",
       "    <tr>\n",
       "      <th>48</th>\n",
       "      <td>We didn't get to see the castle, nor did we se...</td>\n",
       "      <td>not</td>\n",
       "      <td>We did get to see the castle nor did we see th...</td>\n",
       "    </tr>\n",
       "    <tr>\n",
       "      <th>49</th>\n",
       "      <td>We didn't get to see the castle, nor did we se...</td>\n",
       "      <td>nor</td>\n",
       "      <td>nor did we see the cathedral</td>\n",
       "    </tr>\n",
       "    <tr>\n",
       "      <th>50</th>\n",
       "      <td>There is not a deal good enough that would dra...</td>\n",
       "      <td>not</td>\n",
       "      <td>There is a deal good enough that would drag me...</td>\n",
       "    </tr>\n",
       "    <tr>\n",
       "      <th>51</th>\n",
       "      <td>I am disappointed that this is not more toddle...</td>\n",
       "      <td>not</td>\n",
       "      <td>that this is more toddler friendly</td>\n",
       "    </tr>\n",
       "    <tr>\n",
       "      <th>52</th>\n",
       "      <td>I am disappointed that this is not more toddle...</td>\n",
       "      <td>disappointed</td>\n",
       "      <td>I am that this is not more toddler friendly</td>\n",
       "    </tr>\n",
       "  </tbody>\n",
       "</table>\n",
       "</div>"
      ],
      "text/plain": [
       "                                            Sentences ExpectedNegationCues  \\\n",
       "47  He hadn't done any homework, neither had he br...              neither   \n",
       "48  We didn't get to see the castle, nor did we se...                  not   \n",
       "49  We didn't get to see the castle, nor did we se...                  nor   \n",
       "50  There is not a deal good enough that would dra...                  not   \n",
       "51  I am disappointed that this is not more toddle...                  not   \n",
       "52  I am disappointed that this is not more toddle...         disappointed   \n",
       "\n",
       "                                ExpectedNegationScope  \n",
       "47           had he brought any of his books to class  \n",
       "48  We did get to see the castle nor did we see th...  \n",
       "49                       nor did we see the cathedral  \n",
       "50  There is a deal good enough that would drag me...  \n",
       "51                 that this is more toddler friendly  \n",
       "52        I am that this is not more toddler friendly  "
      ]
     },
     "execution_count": 4,
     "metadata": {},
     "output_type": "execute_result"
    }
   ],
   "source": [
    "df.tail(6)"
   ]
  },
  {
   "cell_type": "code",
   "execution_count": 5,
   "metadata": {},
   "outputs": [],
   "source": [
    "# get neg scope for all sentences in synthetic dataset\n",
    "neg_scopes_lt = []\n",
    "neg_cues_lt = []\n",
    "temp = \"\"\n",
    "for j in range(len(df[\"Sentences\"])):\n",
    "    if df[\"Sentences\"][j] != temp:\n",
    "        sent = decontract(df[\"Sentences\"][j])\n",
    "        operating_negs, prefix_negs, suffix_negs, all_negs = identify_all_negs(sent)\n",
    "        neg_cues_lt.append(all_negs)\n",
    "        nlp = spacy.load(\"en_core_web_sm\")\n",
    "        doc = nlp(sent)\n",
    "        neg_scope_new, pos_lt, ne, scope_idx_l, token_idx_lt = get_neg_scope_pos_ne_rule3_new(doc, all_negs)\n",
    "        neg_scopes_lt.append(neg_scope_new)\n",
    "        temp = df[\"Sentences\"][j]\n",
    "\n",
    "\n",
    "neg_scopes_list = []\n",
    "for i in range(len(neg_scopes_lt)):\n",
    "    for j in range(len(neg_scopes_lt[i])):\n",
    "        neg_scopes_list.append(neg_scopes_lt[i][j])\n",
    "\n",
    "df = df.assign(Negation_scope = neg_scopes_list)\n",
    "\n",
    "#ground truth of neg scopes of all sentences in synthetic dataset\n",
    "expected_neg_scopes_list = list(df[\"ExpectedNegationScope\"])\n",
    "\n",
    "#scope comparison\n",
    "predicted_list = []\n",
    "expected_list = []\n",
    "for i in range(len(expected_neg_scopes_list)):\n",
    "    if neg_scopes_list[i]==expected_neg_scopes_list[i]:\n",
    "        predicted_list.append(1)\n",
    "    else:\n",
    "        predicted_list.append(0)\n",
    "    expected_list.append(1)"
   ]
  },
  {
   "cell_type": "code",
   "execution_count": 6,
   "metadata": {},
   "outputs": [
    {
     "data": {
      "text/html": [
       "<div>\n",
       "<style scoped>\n",
       "    .dataframe tbody tr th:only-of-type {\n",
       "        vertical-align: middle;\n",
       "    }\n",
       "\n",
       "    .dataframe tbody tr th {\n",
       "        vertical-align: top;\n",
       "    }\n",
       "\n",
       "    .dataframe thead th {\n",
       "        text-align: right;\n",
       "    }\n",
       "</style>\n",
       "<table border=\"1\" class=\"dataframe\">\n",
       "  <thead>\n",
       "    <tr style=\"text-align: right;\">\n",
       "      <th></th>\n",
       "      <th>Sentences</th>\n",
       "      <th>ExpectedNegationCues</th>\n",
       "      <th>ExpectedNegationScope</th>\n",
       "      <th>Negation_scope</th>\n",
       "    </tr>\n",
       "  </thead>\n",
       "  <tbody>\n",
       "    <tr>\n",
       "      <th>50</th>\n",
       "      <td>There is not a deal good enough that would dra...</td>\n",
       "      <td>not</td>\n",
       "      <td>There is a deal good enough that would drag me...</td>\n",
       "      <td>There is a deal good enough that would drag me...</td>\n",
       "    </tr>\n",
       "    <tr>\n",
       "      <th>51</th>\n",
       "      <td>I am disappointed that this is not more toddle...</td>\n",
       "      <td>not</td>\n",
       "      <td>that this is more toddler friendly</td>\n",
       "      <td>that this is more toddler friendly</td>\n",
       "    </tr>\n",
       "    <tr>\n",
       "      <th>52</th>\n",
       "      <td>I am disappointed that this is not more toddle...</td>\n",
       "      <td>disappointed</td>\n",
       "      <td>I am that this is not more toddler friendly</td>\n",
       "      <td>I am that this is not more toddler friendly</td>\n",
       "    </tr>\n",
       "  </tbody>\n",
       "</table>\n",
       "</div>"
      ],
      "text/plain": [
       "                                            Sentences ExpectedNegationCues  \\\n",
       "50  There is not a deal good enough that would dra...                  not   \n",
       "51  I am disappointed that this is not more toddle...                  not   \n",
       "52  I am disappointed that this is not more toddle...         disappointed   \n",
       "\n",
       "                                ExpectedNegationScope  \\\n",
       "50  There is a deal good enough that would drag me...   \n",
       "51                 that this is more toddler friendly   \n",
       "52        I am that this is not more toddler friendly   \n",
       "\n",
       "                                       Negation_scope  \n",
       "50  There is a deal good enough that would drag me...  \n",
       "51                 that this is more toddler friendly  \n",
       "52        I am that this is not more toddler friendly  "
      ]
     },
     "execution_count": 6,
     "metadata": {},
     "output_type": "execute_result"
    }
   ],
   "source": [
    "df.tail(3)"
   ]
  },
  {
   "cell_type": "code",
   "execution_count": 7,
   "metadata": {},
   "outputs": [],
   "source": [
    "df.to_csv(\"./datasets/Synthetic_dataset_output.csv\")"
   ]
  },
  {
   "cell_type": "code",
   "execution_count": null,
   "metadata": {},
   "outputs": [],
   "source": []
  },
  {
   "cell_type": "code",
   "execution_count": 8,
   "metadata": {},
   "outputs": [
    {
     "data": {
      "text/plain": [
       "21"
      ]
     },
     "execution_count": 8,
     "metadata": {},
     "output_type": "execute_result"
    }
   ],
   "source": [
    "n_l = [neg_cues_lt[i] for i in range(len(neg_cues_lt))]\n",
    "predicted_list.count(0)"
   ]
  },
  {
   "cell_type": "code",
   "execution_count": 9,
   "metadata": {},
   "outputs": [
    {
     "name": "stdout",
     "output_type": "stream",
     "text": [
      "0.6037735849056604\n"
     ]
    }
   ],
   "source": [
    "#precision_score(y_true, y_pred, average='macro')\n",
    "#micro: Calculates metrics globally by counting the total true positives, false negatives and false positives.\n",
    "\n",
    "#precision_score(expected_neg_scopes_list, neg_scopes_list, average='micro')\n",
    "#print(precision_score(expected_list, predicted_list, average='micro'))\n",
    "\n",
    "print(accuracy_score(expected_list, predicted_list))\n",
    "#recall_score(expected_list, predicted_list, average='micro')"
   ]
  },
  {
   "cell_type": "markdown",
   "metadata": {},
   "source": [
    "if neg_scopes_list[i]<=expected_neg_scopes_list[i]:\n",
    "        predicted_list.append(1)\n",
    "if we consider this condition then accuracy is 72 percent"
   ]
  },
  {
   "attachments": {
    "image.png": {
     "image/png": "[encoded data removed]"
    }
   },
   "cell_type": "markdown",
   "metadata": {},
   "source": [
    "#The precision is the ratio tp / (tp + fp)\n",
    "#The recall is the ratio tp / (tp + fn) \n",
    "\n",
    "![image.png](attachment:image.png)"
   ]
  },
  {
   "cell_type": "code",
   "execution_count": 10,
   "metadata": {},
   "outputs": [],
   "source": [
    "# converting 'Sentences' column into list\n",
    "a = list(df['Sentences'])\n",
    "\n",
    "write_reviews_text(a,\"synthetic_dataset_txt_file.txt\")"
   ]
  }
 ],
 "metadata": {
  "kernelspec": {
   "display_name": "Python 3",
   "language": "python",
   "name": "python3"
  },
  "language_info": {
   "codemirror_mode": {
    "name": "ipython",
    "version": 3
   },
   "file_extension": ".py",
   "mimetype": "text/x-python",
   "name": "python",
   "nbconvert_exporter": "python",
   "pygments_lexer": "ipython3",
   "version": "3.6.13"
  }
 },
 "nbformat": 4,
 "nbformat_minor": 4
}
