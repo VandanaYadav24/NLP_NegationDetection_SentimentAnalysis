{
 "cells": [
  {
   "cell_type": "code",
   "execution_count": 1,
   "metadata": {},
   "outputs": [],
   "source": [
    "import spacy\n",
    "from negspacy.negation import Negex\n",
    "from negspacy.termsets import termset"
   ]
  },
  {
   "cell_type": "code",
   "execution_count": 2,
   "metadata": {},
   "outputs": [],
   "source": [
    "def negex_output(sentence):\n",
    "\n",
    "    ts = termset(\"en\")\n",
    "    nlp = spacy.load(\"en_core_web_sm\")\n",
    "\n",
    "    #print(ts.get_patterns())\n",
    "    nlp.add_pipe(\n",
    "                \"negex\",\n",
    "                config={\n",
    "                    \"neg_termset\": ts.get_patterns()\n",
    "                }\n",
    "            )\n",
    "\n",
    "    doc = nlp(sentence)\n",
    "    if len(doc.ents)>0:\n",
    "        for e in doc.ents:\n",
    "            print(\"Entity: \" + e.text)\n",
    "            print(\"Entity negated or not: \" + str(e._.negex))\n",
    "    else:\n",
    "        print(\"\\nNo entities in the sentence.\")"
   ]
  },
  {
   "cell_type": "code",
   "execution_count": 3,
   "metadata": {},
   "outputs": [],
   "source": [
    "def negex_modified_pattern_output(sentence):\n",
    "    ts =termset(\"en\")\n",
    "    ts.add_patterns({\n",
    "                    \"following_negations\":[\"not\", \"isn't\"],\n",
    "                    \"preceding_negations\":[\"neither\", \"nor\"]\n",
    "                    })\n",
    "\n",
    "#     print(\"\\n termset patterns: \")\n",
    "#     print(ts.get_patterns())\n",
    "\n",
    "    nlp = spacy.load(\"en_core_web_sm\")\n",
    "    nlp.add_pipe(\n",
    "                \"negex\",\n",
    "                config={\n",
    "                    \"neg_termset\": ts.get_patterns()\n",
    "                }\n",
    "    )\n",
    "\n",
    "    #print(\"\\nPipeline added NegEx output:\")\n",
    "    doc = nlp(sentence)\n",
    "    ne_list=[]\n",
    "    ne_out_list=[]\n",
    "    if len(doc.ents)>0:\n",
    "        for e in doc.ents:\n",
    "            print(e.text, e._.negex)\n",
    "            ne_list.append(e.text)\n",
    "            ne_out_list.append(e._.negex)\n",
    "    return ne_list, ne_out_list"
   ]
  },
  {
   "cell_type": "code",
   "execution_count": 4,
   "metadata": {},
   "outputs": [],
   "source": [
    "#a, b=negex_modified_pattern_output(\"Neither the United States nor India is participating in this competition\")"
   ]
  }
 ],
 "metadata": {
  "kernelspec": {
   "display_name": "Python 3",
   "language": "python",
   "name": "python3"
  },
  "language_info": {
   "codemirror_mode": {
    "name": "ipython",
    "version": 3
   },
   "file_extension": ".py",
   "mimetype": "text/x-python",
   "name": "python",
   "nbconvert_exporter": "python",
   "pygments_lexer": "ipython3",
   "version": "3.6.13"
  }
 },
 "nbformat": 4,
 "nbformat_minor": 4
}
