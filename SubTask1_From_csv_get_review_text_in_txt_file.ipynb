{
 "cells": [
  {
   "cell_type": "code",
   "execution_count": 1,
   "metadata": {},
   "outputs": [
    {
     "name": "stderr",
     "output_type": "stream",
     "text": [
      "C:\\Users\\vanda\\anaconda3\\envs\\p3_6\\lib\\site-packages\\fuzzywuzzy\\fuzz.py:11: UserWarning: Using slow pure-python SequenceMatcher. Install python-Levenshtein to remove this warning\n",
      "  warnings.warn('Using slow pure-python SequenceMatcher. Install python-Levenshtein to remove this warning')\n"
     ]
    }
   ],
   "source": [
    "from Task4_Reviews_dataset_common_methods import *\n",
    "import pandas as pd"
   ]
  },
  {
   "cell_type": "code",
   "execution_count": 2,
   "metadata": {},
   "outputs": [],
   "source": [
    "df = pd.read_csv('./datasets/Datafiniti_Hotel_Reviews.csv')\n",
    "#df[df[\"reviews.text\"].isna()]\n",
    "df = df.drop(df.columns.difference(['reviews.rating', 'reviews.text']), 1)\n",
    "df = df.dropna(subset = ['reviews.text','reviews.rating'])\n",
    "df = df.reset_index()\n",
    "df = df.drop('index', axis='columns')"
   ]
  },
  {
   "cell_type": "code",
   "execution_count": 3,
   "metadata": {},
   "outputs": [
    {
     "data": {
      "text/html": [
       "<div>\n",
       "<style scoped>\n",
       "    .dataframe tbody tr th:only-of-type {\n",
       "        vertical-align: middle;\n",
       "    }\n",
       "\n",
       "    .dataframe tbody tr th {\n",
       "        vertical-align: top;\n",
       "    }\n",
       "\n",
       "    .dataframe thead th {\n",
       "        text-align: right;\n",
       "    }\n",
       "</style>\n",
       "<table border=\"1\" class=\"dataframe\">\n",
       "  <thead>\n",
       "    <tr style=\"text-align: right;\">\n",
       "      <th></th>\n",
       "      <th>reviews.rating</th>\n",
       "      <th>reviews.text</th>\n",
       "    </tr>\n",
       "  </thead>\n",
       "  <tbody>\n",
       "    <tr>\n",
       "      <th>0</th>\n",
       "      <td>5.0</td>\n",
       "      <td>Our experience at Rancho Valencia was absolute...</td>\n",
       "    </tr>\n",
       "    <tr>\n",
       "      <th>1</th>\n",
       "      <td>5.0</td>\n",
       "      <td>Amazing place. Everyone was extremely warm and...</td>\n",
       "    </tr>\n",
       "    <tr>\n",
       "      <th>2</th>\n",
       "      <td>5.0</td>\n",
       "      <td>We booked a 3 night stay at Rancho Valencia to...</td>\n",
       "    </tr>\n",
       "    <tr>\n",
       "      <th>3</th>\n",
       "      <td>2.0</td>\n",
       "      <td>Currently in bed writing this for the past hr ...</td>\n",
       "    </tr>\n",
       "    <tr>\n",
       "      <th>4</th>\n",
       "      <td>5.0</td>\n",
       "      <td>I live in Md and the Aloft is my Home away fro...</td>\n",
       "    </tr>\n",
       "  </tbody>\n",
       "</table>\n",
       "</div>"
      ],
      "text/plain": [
       "   reviews.rating                                       reviews.text\n",
       "0             5.0  Our experience at Rancho Valencia was absolute...\n",
       "1             5.0  Amazing place. Everyone was extremely warm and...\n",
       "2             5.0  We booked a 3 night stay at Rancho Valencia to...\n",
       "3             2.0  Currently in bed writing this for the past hr ...\n",
       "4             5.0  I live in Md and the Aloft is my Home away fro..."
      ]
     },
     "execution_count": 3,
     "metadata": {},
     "output_type": "execute_result"
    }
   ],
   "source": [
    "df.head(5)"
   ]
  },
  {
   "cell_type": "code",
   "execution_count": 4,
   "metadata": {},
   "outputs": [],
   "source": [
    "df = pd.read_csv('./datasets/Restaurant_Reviews.csv')\n",
    "\n",
    "df = df.drop('Unnamed: 0', axis='columns')\n",
    "df = df.rename(columns = {'Review':'reviews.text', 'Liked': 'reviews.rating'})"
   ]
  },
  {
   "cell_type": "code",
   "execution_count": 5,
   "metadata": {},
   "outputs": [],
   "source": [
    "def read_reviews_in_text(filename):\n",
    "    review_list=[]\n",
    "    ##Open the file\n",
    "    infile = open(filename, 'r', encoding=\"utf-8\") \n",
    "\n",
    "    lines = infile.readlines() \n",
    "\n",
    "    for line in lines[1:]: #skip the first line, which is the header\n",
    "        sline = line.strip() #get rid of trailing newline characters at the end of the line\n",
    "        sline = sline.split(',')  # separates line into a list of items.  ',' tells it to split the lines at the commas\n",
    "\n",
    "        review_list.append(sline[1]) #store the colony count for the line as an integer\n",
    "        #print(review_list)\n",
    "\n",
    "    #close the file\n",
    "    infile.close()\n",
    "    return review_list"
   ]
  },
  {
   "cell_type": "markdown",
   "metadata": {},
   "source": [
    "###### takes a list as input and writes the list content in text file:"
   ]
  },
  {
   "cell_type": "code",
   "execution_count": 6,
   "metadata": {},
   "outputs": [],
   "source": [
    "def write_reviews_text(reviews_list, filename):\n",
    "    with open(filename, 'w', encoding='utf-8') as file_handler:\n",
    "        for item in reviews_list:\n",
    "            file_handler.write(\"{}\\n\".format(str(item)))"
   ]
  },
  {
   "cell_type": "markdown",
   "metadata": {},
   "source": [
    "##### below code for converting column of df to list and then writing in text file:"
   ]
  },
  {
   "cell_type": "code",
   "execution_count": 7,
   "metadata": {},
   "outputs": [],
   "source": [
    "# # converting 'reviews.text' column into list\n",
    "# a = list(df['reviews.text'])\n",
    "\n",
    "# write_reviews_text(a,\"restaurant_reviews_txt.txt\")\n",
    "\n",
    "# #https://www.geeksforgeeks.org/how-to-convert-csv-columns-to-text-in-python/"
   ]
  }
 ],
 "metadata": {
  "kernelspec": {
   "display_name": "Python 3",
   "language": "python",
   "name": "python3"
  },
  "language_info": {
   "codemirror_mode": {
    "name": "ipython",
    "version": 3
   },
   "file_extension": ".py",
   "mimetype": "text/x-python",
   "name": "python",
   "nbconvert_exporter": "python",
   "pygments_lexer": "ipython3",
   "version": "3.6.13"
  }
 },
 "nbformat": 4,
 "nbformat_minor": 4
}
